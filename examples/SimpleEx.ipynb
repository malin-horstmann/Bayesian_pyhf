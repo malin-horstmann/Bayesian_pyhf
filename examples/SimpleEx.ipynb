{
 "cells": [
  {
   "cell_type": "code",
   "execution_count": 1,
   "metadata": {},
   "outputs": [
    {
     "name": "stderr",
     "output_type": "stream",
     "text": [
      "WARNING (pytensor.tensor.blas): Using NumPy C-API based implementation for BLAS functions.\n"
     ]
    }
   ],
   "source": [
    "import numpy as np\n",
    "import scipy.stats as sps\n",
    "import matplotlib.pyplot as plt\n",
    "import corner\n",
    "import json\n",
    "\n",
    "import pytensor\n",
    "from pytensor import tensor as pt\n",
    "from pytensor.graph.basic import Apply\n",
    "from pytensor.graph import Apply, Op\n",
    "\n",
    "import jax\n",
    "from jax import grad, jit, vmap, value_and_grad, random\n",
    "import jax.numpy as jnp\n",
    "\n",
    "import pyhf\n",
    "pyhf.set_backend('numpy')\n",
    "\n",
    "import pymc as pm\n",
    "import arviz as az\n",
    "\n",
    "from pyhf_pymc import prepare_inference\n",
    "from pyhf_pymc import infer\n",
    "from pyhf_pymc import make_op\n",
    "from pyhf_pymc import plotting\n",
    "\n",
    "%load_ext autoreload\n",
    "%autoreload "
   ]
  },
  {
   "cell_type": "code",
   "execution_count": 2,
   "metadata": {},
   "outputs": [],
   "source": [
    "blue = '#1F449C'\n",
    "pink = '#E57A77'"
   ]
  },
  {
   "cell_type": "code",
   "execution_count": 3,
   "metadata": {},
   "outputs": [],
   "source": [
    "model = pyhf.Model(\n",
    "        {'channels': [{'name': 'singlechannel',\n",
    "        'samples': [\n",
    "        {'name': 'signal',\n",
    "        'data': [10, 20, 10],\n",
    "        'modifiers': [\n",
    "            {'name': 'mu', 'type': 'normfactor', 'data': None},\n",
    "            {'name': 'mu2', 'type': 'normfactor', 'data': None}]},\n",
    "        {'name': 'background',\n",
    "        'data': [120, 110, 100],\n",
    "        'modifiers': [\n",
    "            # Normalisation Uncertainty / Normal\n",
    "            {'name': 'normSys', \"type\": \"normsys\", \"data\": {\"hi\": 0.95, \"lo\": 1.05}},\n",
    "            # Staterror / Normal\n",
    "            {\"name\": \"my_staterror\",\"type\": \"staterror\",\"data\": [10.1, 1.01, 0.101],},\n",
    "            # Uncorrelated / Poisson\n",
    "            {'name': 'uncorr_bkg', 'type': 'shapesys','data': [40, 51, 62]}\n",
    "            ]}]}]\n",
    "            }\n",
    "        )\n",
    "\n",
    "data = [0, 15, 100]\n",
    "auxdata = model.expected_auxdata(model.config.suggested_init())\n",
    "\n",
    "unconstr_priors = {\n",
    "    'mu': {'type': 'HalfNormal_Unconstrained', 'sigma': [0.4]},\n",
    "    'mu2': {'type': 'Gamma_Unconstrained', 'alpha': [5.], 'beta': [1.]}\n",
    "}"
   ]
  },
  {
   "cell_type": "code",
   "execution_count": 32,
   "metadata": {},
   "outputs": [],
   "source": [
    "# with open('ttbar_ljets_xsec_inclusive_pruned.json') as serialized:\n",
    "#     spec = json.load(serialized)\n",
    "\n",
    "# workspace = pyhf.Workspace(spec)\n",
    "# model = workspace.model()\n",
    "\n",
    "# data = workspace.data(model, include_auxdata=False)\n",
    "\n",
    "# unconstr_priors = {\n",
    "#     'ttbarXsec': {'type': 'HalfNormal_Unconstrained', 'sigma': [0.4]}\n",
    "# }"
   ]
  },
  {
   "cell_type": "code",
   "execution_count": 9,
   "metadata": {},
   "outputs": [
    {
     "data": {
      "text/plain": [
       "5"
      ]
     },
     "execution_count": 9,
     "metadata": {},
     "output_type": "execute_result"
    }
   ],
   "source": [
    "priorDict_conjugate = prepare_inference.build_priorDict_conjugate(model, unconstr_priors)\n",
    "len(priorDict_conjugate.keys())"
   ]
  },
  {
   "cell_type": "code",
   "execution_count": null,
   "metadata": {},
   "outputs": [],
   "source": [
    "with pm.Model():\n",
    "    pars = pm.HalfNormal('test', sigma=0.2)\n",
    "    print(pars.type)\n",
    "    flat = pm.Flat('flat')\n",
    "    print(flat.type)\n",
    "\n",
    "    pars_combined = []\n",
    "    pars_combined.extend(pm.HalfNormal('testt', sigma=0.2))"
   ]
  },
  {
   "cell_type": "code",
   "execution_count": 4,
   "metadata": {},
   "outputs": [],
   "source": [
    "prior_dict = prepare_inference.build_priorDict_conjugate(model, unconstr_priors)"
   ]
  },
  {
   "cell_type": "code",
   "execution_count": 6,
   "metadata": {},
   "outputs": [
    {
     "name": "stdout",
     "output_type": "stream",
     "text": [
      "uncorr_bkg\n",
      "MakeVector{dtype='float64'}.0\n"
     ]
    }
   ],
   "source": [
    "pars_combined = []\n",
    "\n",
    "with pm.Model():\n",
    "\n",
    "    for name, specs in  prior_dict.items():\n",
    "\n",
    "        if specs['type'] == 'HalfNormal_Unconstrained':\n",
    "            pars_combined.extend(pm.HalfNormal(name, sigma=specs['sigma']))   \n",
    "        \n",
    "        if specs['type'] == 'Gamma_Unconstrained':\n",
    "            pars_combined.extend(pm.Gamma(name, alpha=specs['alpha'], beta=specs['beta']))\n",
    "\n",
    "\n",
    "        \n",
    "        if specs['type'] == 'Normal':\n",
    "            pars_combined.extend(pm.Normal(name, mu=specs['mu'], sigma=specs['sigma']))\n",
    "        \n",
    "        if specs['type'] == 'Gamma':\n",
    "            # pars_combined.extend(pm.Gamma(name, alpha=specs['alpha_beta'], beta=specs['alpha_beta']))\n",
    "            pars_combined.extend([pm.Flat(name)])\n",
    "            print(name)\n",
    "\n",
    "\n",
    "    # pars_combined.extend(pm.Flat('test'))\n",
    "    pars_combined = pt.as_tensor_variable(pars_combined)\n",
    "    print(pars_combined)"
   ]
  },
  {
   "cell_type": "code",
   "execution_count": null,
   "metadata": {},
   "outputs": [],
   "source": [
    "pyhf.set_backend('numpy')\n",
    "with infer.model_conjugate(model, unconstr_priors, data):\n",
    "    step = pm.Metropolis()\n",
    "    post_data = pm.sample(draws=1_00, chains=1, step=step)\n",
    "    post_pred = pm.sample_posterior_predictive(post_data)\n",
    "    prior_pred = pm.sample_prior_predictive(1_00)"
   ]
  },
  {
   "cell_type": "code",
   "execution_count": 7,
   "metadata": {},
   "outputs": [
    {
     "data": {
      "image/png": "[encoded data removed]",
      "text/plain": [
       "<Figure size 640x480 with 1 Axes>"
      ]
     },
     "metadata": {},
     "output_type": "display_data"
    }
   ],
   "source": [
    "plotting.prior_posterior_predictives(model=model, data=data, post_pred=post_pred, prior_pred=prior_pred, bin_steps=5)"
   ]
  },
  {
   "cell_type": "code",
   "execution_count": null,
   "metadata": {},
   "outputs": [],
   "source": []
  }
 ],
 "metadata": {
  "kernelspec": {
   "display_name": "pyhf_pymc",
   "language": "python",
   "name": "python3"
  },
  "language_info": {
   "codemirror_mode": {
    "name": "ipython",
    "version": 3
   },
   "file_extension": ".py",
   "mimetype": "text/x-python",
   "name": "python",
   "nbconvert_exporter": "python",
   "pygments_lexer": "ipython3",
   "version": "3.9.16"
  },
  "orig_nbformat": 4
 },
 "nbformat": 4,
 "nbformat_minor": 2
}
